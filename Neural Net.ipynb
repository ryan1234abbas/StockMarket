{
 "cells": [
  {
   "cell_type": "code",
   "execution_count": 1,
   "metadata": {},
   "outputs": [],
   "source": [
    "# Classify using Neural Network\n",
    "\n",
    "import numpy as np\n",
    "import tensorflow as tf\n",
    "from tensorflow import keras\n",
    "from tensorflow.keras import layers\n",
    "from tensorflow.keras.models import Sequential\n",
    "from tensorflow.keras.layers import Dense\n",
    "from tensorflow.keras.layers import Flatten\n",
    "from tensorflow.keras.layers import Dropout\n",
    "from tensorflow.keras.layers import Conv2D\n",
    "from tensorflow.keras.layers import MaxPooling2D\n",
    "\n",
    "from sklearn.model_selection import train_test_split\n",
    "from sklearn.metrics import classification_report\n",
    "from sklearn.metrics import confusion_matrix\n",
    "\n",
    "import matplotlib.pyplot as plt\n",
    "import seaborn as sns\n",
    "\n"
   ]
  },
  {
   "cell_type": "code",
   "execution_count": 2,
   "metadata": {},
   "outputs": [
    {
     "data": {
      "text/plain": [
       "(40, 669)"
      ]
     },
     "execution_count": 2,
     "metadata": {},
     "output_type": "execute_result"
    }
   ],
   "source": [
    "from PIL import Image\n",
    "image = Image.open(\"72.png\")\n",
    "image.size"
   ]
  },
  {
   "cell_type": "code",
   "execution_count": 3,
   "metadata": {},
   "outputs": [],
   "source": [
    "import os\n",
    "from PIL import Image\n",
    "import numpy as np\n",
    "\n",
    "# Define your directories\n",
    "directories = ['dataset/DB', 'dataset/DT', 'dataset/HH', 'dataset/HL', 'dataset/LH', 'dataset/LL']\n",
    "\n",
    "# Initialize lists to store images and labels\n",
    "images = []\n",
    "labels = []\n",
    "\n",
    "# Loop through each directory\n",
    "for i, dir in enumerate(directories):\n",
    "    # Loop through each file in the directory\n",
    "    for filename in os.listdir(dir):\n",
    "        # Ensure the file is an image\n",
    "        if filename.endswith('.jpg') or filename.endswith('.png'):\n",
    "            # Open the image file\n",
    "            img = Image.open(os.path.join(dir, filename))\n",
    "            # Convert the image to a numpy array and append it to the images list\n",
    "            images.append(np.array(img))\n",
    "            # Append the corresponding label to the labels list\n",
    "            labels.append(i)\n",
    "\n",
    "# Convert lists to numpy arrays\n",
    "X = np.array(images)\n",
    "y = np.array(labels)\n",
    "\n",
    "# Split the data into training and testing sets\n",
    "from sklearn.model_selection import train_test_split\n",
    "X_train, X_test, y_train, y_test = train_test_split(X, y, test_size=0.2, random_state=42)\n"
   ]
  },
  {
   "cell_type": "code",
   "execution_count": 4,
   "metadata": {},
   "outputs": [
    {
     "data": {
      "text/plain": [
       "((4168, 669, 40, 3), (4168,))"
      ]
     },
     "execution_count": 4,
     "metadata": {},
     "output_type": "execute_result"
    }
   ],
   "source": [
    "X_train.shape, y_train.shape"
   ]
  },
  {
   "cell_type": "code",
   "execution_count": 5,
   "metadata": {},
   "outputs": [
    {
     "data": {
      "text/plain": [
       "array([[[166, 160, 180],\n",
       "        [166, 160, 180],\n",
       "        [166, 160, 180],\n",
       "        ...,\n",
       "        [170, 170, 170],\n",
       "        [170, 170, 170],\n",
       "        [170, 170, 170]],\n",
       "\n",
       "       [[166, 160, 180],\n",
       "        [166, 160, 180],\n",
       "        [166, 160, 180],\n",
       "        ...,\n",
       "        [170, 170, 170],\n",
       "        [170, 170, 170],\n",
       "        [170, 170, 170]],\n",
       "\n",
       "       [[166, 160, 180],\n",
       "        [166, 160, 180],\n",
       "        [166, 160, 180],\n",
       "        ...,\n",
       "        [170, 170, 170],\n",
       "        [170, 170, 170],\n",
       "        [170, 170, 170]],\n",
       "\n",
       "       ...,\n",
       "\n",
       "       [[166, 160, 180],\n",
       "        [166, 160, 180],\n",
       "        [166, 160, 180],\n",
       "        ...,\n",
       "        [170, 170, 170],\n",
       "        [170, 170, 170],\n",
       "        [170, 170, 170]],\n",
       "\n",
       "       [[166, 160, 180],\n",
       "        [166, 160, 180],\n",
       "        [166, 160, 180],\n",
       "        ...,\n",
       "        [170, 170, 170],\n",
       "        [170, 170, 170],\n",
       "        [170, 170, 170]],\n",
       "\n",
       "       [[166, 160, 180],\n",
       "        [166, 160, 180],\n",
       "        [166, 160, 180],\n",
       "        ...,\n",
       "        [170, 170, 170],\n",
       "        [170, 170, 170],\n",
       "        [170, 170, 170]]], dtype=uint8)"
      ]
     },
     "execution_count": 5,
     "metadata": {},
     "output_type": "execute_result"
    }
   ],
   "source": [
    "X_train[0]"
   ]
  },
  {
   "cell_type": "code",
   "execution_count": 6,
   "metadata": {},
   "outputs": [
    {
     "data": {
      "image/jpeg": "[encoded data removed]",
      "image/png": "[encoded data removed]",
      "text/plain": [
       "<PIL.Image.Image image mode=RGB size=40x669>"
      ]
     },
     "execution_count": 6,
     "metadata": {},
     "output_type": "execute_result"
    }
   ],
   "source": [
    "Image.fromarray(X_train[0])"
   ]
  },
  {
   "cell_type": "code",
   "execution_count": 7,
   "metadata": {},
   "outputs": [
    {
     "data": {
      "text/plain": [
       "array([5, 2, 4, ..., 5, 5, 2])"
      ]
     },
     "execution_count": 7,
     "metadata": {},
     "output_type": "execute_result"
    }
   ],
   "source": [
    "y_train"
   ]
  },
  {
   "cell_type": "code",
   "execution_count": 8,
   "metadata": {},
   "outputs": [],
   "source": [
    "def preprocess_data(X_train, X_test):\n",
    "    # Normalize the pixel values\n",
    "    X_train = X_train / 255.0\n",
    "    X_test = X_test / 255.0\n",
    "    # # One-hot encode the labels\n",
    "    # y_train = tf.keras.utils.to_categorical(y_train)\n",
    "    return X_train, X_test"
   ]
  },
  {
   "cell_type": "code",
   "execution_count": 9,
   "metadata": {},
   "outputs": [
    {
     "name": "stdout",
     "output_type": "stream",
     "text": [
      "Epoch 1/10\n",
      "105/105 [==============================] - 28s 259ms/step - loss: 0.4809 - accuracy: 0.8359 - val_loss: 0.0811 - val_accuracy: 0.9748\n",
      "Epoch 2/10\n",
      "105/105 [==============================] - 31s 299ms/step - loss: 0.0495 - accuracy: 0.9859 - val_loss: 0.0258 - val_accuracy: 0.9928\n",
      "Epoch 3/10\n",
      "105/105 [==============================] - 27s 256ms/step - loss: 0.0087 - accuracy: 0.9973 - val_loss: 0.0177 - val_accuracy: 0.9964\n",
      "Epoch 4/10\n",
      "105/105 [==============================] - 26s 247ms/step - loss: 9.3287e-04 - accuracy: 1.0000 - val_loss: 0.0185 - val_accuracy: 0.9964\n",
      "Epoch 5/10\n",
      "105/105 [==============================] - 27s 253ms/step - loss: 0.0174 - accuracy: 0.9961 - val_loss: 0.0659 - val_accuracy: 0.9832\n",
      "Epoch 6/10\n",
      "105/105 [==============================] - 26s 245ms/step - loss: 0.0024 - accuracy: 0.9997 - val_loss: 0.0127 - val_accuracy: 0.9964\n",
      "Epoch 7/10\n",
      "105/105 [==============================] - 26s 250ms/step - loss: 0.0154 - accuracy: 0.9952 - val_loss: 0.0089 - val_accuracy: 0.9976\n",
      "Epoch 8/10\n",
      "105/105 [==============================] - 28s 263ms/step - loss: 0.0016 - accuracy: 0.9997 - val_loss: 0.0172 - val_accuracy: 0.9976\n",
      "Epoch 9/10\n",
      "105/105 [==============================] - 26s 251ms/step - loss: 9.0647e-05 - accuracy: 1.0000 - val_loss: 0.0183 - val_accuracy: 0.9976\n",
      "Epoch 10/10\n",
      "105/105 [==============================] - 25s 242ms/step - loss: 4.9832e-05 - accuracy: 1.0000 - val_loss: 0.0193 - val_accuracy: 0.9976\n",
      "33/33 [==============================] - 2s 54ms/step - loss: 0.0200 - accuracy: 0.9962\n",
      "Test accuracy: 0.9961612224578857\n"
     ]
    }
   ],
   "source": [
    "import tensorflow as tf\n",
    "from tensorflow.keras import layers, models\n",
    "\n",
    "# Define your neural network architecture\n",
    "def create_model(input_shape, num_classes):\n",
    "    model = models.Sequential([\n",
    "        layers.Conv2D(32, (3, 3), activation='relu', input_shape=input_shape),\n",
    "        layers.MaxPooling2D((2, 2)),\n",
    "        layers.Conv2D(64, (3, 3), activation='relu'),\n",
    "        layers.MaxPooling2D((2, 2)),\n",
    "        layers.Conv2D(128, (3, 3), activation='relu'),\n",
    "        layers.MaxPooling2D((2, 2)),\n",
    "        layers.Flatten(),\n",
    "        layers.Dense(128, activation='relu'),\n",
    "        layers.Dense(num_classes, activation='softmax')\n",
    "    ])\n",
    "    return model\n",
    "\n",
    "X_train, X_test = preprocess_data(X_train, X_test) # Preprocess your images here\n",
    "\n",
    "# Define input shape and number of classes\n",
    "height, width, channels = image.size[1], image.size[0], 3  # Adjust according to your image dimensions\n",
    "input_shape = (height, width, channels)  # Adjust according to your image dimensions\n",
    "num_classes = len(directories)\n",
    "\n",
    "# Create and compile the model\n",
    "model = create_model(input_shape, num_classes)\n",
    "model.compile(optimizer='adam',\n",
    "              loss='sparse_categorical_crossentropy',\n",
    "              metrics=['accuracy'])\n",
    "\n",
    "# Train the model\n",
    "model.fit(X_train, y_train, epochs=10, batch_size=32, validation_split=0.2)\n",
    "\n",
    "# Evaluate the model\n",
    "test_loss, test_acc = model.evaluate(X_test, y_test)\n",
    "print('Test accuracy:', test_acc)\n"
   ]
  },
  {
   "cell_type": "code",
   "execution_count": 10,
   "metadata": {},
   "outputs": [
    {
     "name": "stderr",
     "output_type": "stream",
     "text": [
      "c:\\Users\\sehre\\AppData\\Local\\Programs\\Python\\Python311\\Lib\\site-packages\\keras\\src\\engine\\training.py:3000: UserWarning: You are saving your model as an HDF5 file via `model.save()`. This file format is considered legacy. We recommend using instead the native Keras format, e.g. `model.save('my_model.keras')`.\n",
      "  saving_api.save_model(\n"
     ]
    }
   ],
   "source": [
    "# Save the model\n",
    "model.save('mask_model_v2.1.h5')"
   ]
  },
  {
   "cell_type": "code",
   "execution_count": 11,
   "metadata": {},
   "outputs": [
    {
     "name": "stdout",
     "output_type": "stream",
     "text": [
      "33/33 [==============================] - 2s 51ms/step\n",
      "True labels: [4 2 3 ... 2 5 2]\n",
      "Predicted labels: tf.Tensor([4 2 3 ... 2 5 2], shape=(1042,), dtype=int64)\n"
     ]
    }
   ],
   "source": [
    "# Load the model\n",
    "model = tf.keras.models.load_model('mask_model_v2.1.h5')\n",
    "\n",
    "# Make predictions\n",
    "predictions = model.predict(X_test)\n",
    "predictions[:5]\n",
    "\n",
    "# Convert the one-hot encoded predictions to labels\n",
    "predictions = tf.argmax(predictions, axis=1)\n",
    "predictions[:5]\n",
    "\n",
    "# Display the true labels and the predicted labels\n",
    "true_labels = y_test\n",
    "print('True labels:', true_labels)\n",
    "print('Predicted labels:', predictions)\n"
   ]
  },
  {
   "cell_type": "code",
   "execution_count": 14,
   "metadata": {},
   "outputs": [
    {
     "name": "stdout",
     "output_type": "stream",
     "text": [
      "Accuracy: 0.9961612284069098\n"
     ]
    },
    {
     "data": {
      "image/png": "[encoded data removed]",
      "text/plain": [
       "<Figure size 1000x700 with 2 Axes>"
      ]
     },
     "metadata": {},
     "output_type": "display_data"
    }
   ],
   "source": [
    "# Calculate the accuracy of the model\n",
    "accuracy = np.mean(true_labels == predictions)\n",
    "print('Accuracy:', accuracy)\n",
    "\n",
    "# Display the confusion matrix\n",
    "from sklearn.metrics import confusion_matrix\n",
    "import seaborn as sns\n",
    "import matplotlib.pyplot as plt\n",
    "\n",
    "cm = confusion_matrix(true_labels, predictions)\n",
    "plt.figure(figsize=(10, 7))\n",
    "sns.heatmap(cm, annot=True, fmt='d', xticklabels=directories, yticklabels=directories, cmap='Blues')\n",
    "plt.xlabel('Predicted labels')\n",
    "plt.ylabel('True labels')\n",
    "plt.title('Confusion Matrix')\n",
    "plt.show()"
   ]
  },
  {
   "cell_type": "code",
   "execution_count": 15,
   "metadata": {},
   "outputs": [
    {
     "name": "stdout",
     "output_type": "stream",
     "text": [
      "1/1 [==============================] - 0s 61ms/step\n",
      "HL\n"
     ]
    }
   ],
   "source": [
    "# Load the model\n",
    "model = tf.keras.models.load_model('mask_model_v2.1.h5')\n",
    "\n",
    "# Test the model\n",
    "img = Image.open('dataset/HH/6991.png')\n",
    "\n",
    "img = np.array(img)\n",
    "img = img / 255.0\n",
    "img = img[np.newaxis, ...]\n",
    "\n",
    "prediction = model.predict(img)\n",
    "prediction = np.argmax(prediction)\n",
    "\n",
    "if prediction == 0:\n",
    "    print('DT')\n",
    "elif prediction == 1:\n",
    "    print('HH')\n",
    "elif prediction == 2:\n",
    "    print('HL')\n",
    "elif prediction == 3:\n",
    "    print('LH')\n",
    "else:\n",
    "    print('LL')\n"
   ]
  },
  {
   "cell_type": "code",
   "execution_count": 16,
   "metadata": {},
   "outputs": [
    {
     "name": "stdout",
     "output_type": "stream",
     "text": [
      "2.13.1\n"
     ]
    }
   ],
   "source": [
    "import tensorflow as tf\n",
    "print(tf.__version__)"
   ]
  }
 ],
 "metadata": {
  "kernelspec": {
   "display_name": "Python 3",
   "language": "python",
   "name": "python3"
  },
  "language_info": {
   "codemirror_mode": {
    "name": "ipython",
    "version": 3
   },
   "file_extension": ".py",
   "mimetype": "text/x-python",
   "name": "python",
   "nbconvert_exporter": "python",
   "pygments_lexer": "ipython3",
   "version": "3.11.5"
  }
 },
 "nbformat": 4,
 "nbformat_minor": 2
}
