{
 "cells": [
  {
   "cell_type": "code",
   "execution_count": 30,
   "metadata": {},
   "outputs": [],
   "source": [
    "# Classify using Neural Network\n",
    "\n",
    "import numpy as np\n",
    "import tensorflow as tf\n",
    "from tensorflow import keras\n",
    "from tensorflow.keras import layers\n",
    "from tensorflow.keras.models import Sequential\n",
    "from tensorflow.keras.layers import Dense\n",
    "from tensorflow.keras.layers import Flatten\n",
    "from tensorflow.keras.layers import Dropout\n",
    "from tensorflow.keras.layers import Conv2D\n",
    "from tensorflow.keras.layers import MaxPooling2D\n",
    "\n",
    "from sklearn.model_selection import train_test_split\n",
    "from sklearn.metrics import classification_report\n",
    "from sklearn.metrics import confusion_matrix\n",
    "\n",
    "import matplotlib.pyplot as plt\n",
    "import seaborn as sns\n",
    "\n"
   ]
  },
  {
   "cell_type": "code",
   "execution_count": 31,
   "metadata": {},
   "outputs": [
    {
     "data": {
      "text/plain": [
       "(40, 669)"
      ]
     },
     "execution_count": 31,
     "metadata": {},
     "output_type": "execute_result"
    }
   ],
   "source": [
    "from PIL import Image\n",
    "image = Image.open(\"72.png\")\n",
    "image.size"
   ]
  },
  {
   "cell_type": "code",
   "execution_count": 32,
   "metadata": {},
   "outputs": [],
   "source": [
    "import os\n",
    "from PIL import Image\n",
    "import numpy as np\n",
    "\n",
    "# Define your directories\n",
    "directories = ['dataset/DB', 'dataset/DT', 'dataset/HH', 'dataset/HL', 'dataset/LH', 'dataset/LL']\n",
    "\n",
    "# Initialize lists to store images and labels\n",
    "images = []\n",
    "labels = []\n",
    "\n",
    "# Loop through each directory\n",
    "for i, dir in enumerate(directories):\n",
    "    # Loop through each file in the directory\n",
    "    for filename in os.listdir(dir):\n",
    "        # Ensure the file is an image\n",
    "        if filename.endswith('.jpg') or filename.endswith('.png'):\n",
    "            # Open the image file\n",
    "            img = Image.open(os.path.join(dir, filename))\n",
    "            # Convert the image to a numpy array and append it to the images list\n",
    "            images.append(np.array(img))\n",
    "            # Append the corresponding label to the labels list\n",
    "            labels.append(i)\n",
    "\n",
    "# Convert lists to numpy arrays\n",
    "X = np.array(images)\n",
    "y = np.array(labels)\n",
    "\n",
    "# Split the data into training and testing sets\n",
    "from sklearn.model_selection import train_test_split\n",
    "X_train, X_test, y_train, y_test = train_test_split(X, y, test_size=0.2, random_state=42)\n"
   ]
  },
  {
   "cell_type": "code",
   "execution_count": 33,
   "metadata": {},
   "outputs": [
    {
     "data": {
      "text/plain": [
       "((4035, 669, 40, 3), (4035,))"
      ]
     },
     "execution_count": 33,
     "metadata": {},
     "output_type": "execute_result"
    }
   ],
   "source": [
    "X_train.shape, y_train.shape"
   ]
  },
  {
   "cell_type": "code",
   "execution_count": 34,
   "metadata": {},
   "outputs": [
    {
     "data": {
      "text/plain": [
       "array([[[161, 187, 137],\n",
       "        [161, 187, 137],\n",
       "        [161, 187, 137],\n",
       "        ...,\n",
       "        [170, 170, 170],\n",
       "        [170, 170, 170],\n",
       "        [170, 170, 170]],\n",
       "\n",
       "       [[161, 187, 137],\n",
       "        [161, 187, 137],\n",
       "        [161, 187, 137],\n",
       "        ...,\n",
       "        [170, 170, 170],\n",
       "        [170, 170, 170],\n",
       "        [170, 170, 170]],\n",
       "\n",
       "       [[161, 187, 137],\n",
       "        [161, 187, 137],\n",
       "        [161, 187, 137],\n",
       "        ...,\n",
       "        [170, 170, 170],\n",
       "        [170, 170, 170],\n",
       "        [170, 170, 170]],\n",
       "\n",
       "       ...,\n",
       "\n",
       "       [[161, 187, 137],\n",
       "        [161, 187, 137],\n",
       "        [161, 187, 137],\n",
       "        ...,\n",
       "        [170, 170, 170],\n",
       "        [170, 170, 170],\n",
       "        [170, 170, 170]],\n",
       "\n",
       "       [[161, 187, 137],\n",
       "        [161, 187, 137],\n",
       "        [161, 187, 137],\n",
       "        ...,\n",
       "        [170, 170, 170],\n",
       "        [170, 170, 170],\n",
       "        [170, 170, 170]],\n",
       "\n",
       "       [[161, 187, 137],\n",
       "        [161, 187, 137],\n",
       "        [161, 187, 137],\n",
       "        ...,\n",
       "        [170, 170, 170],\n",
       "        [170, 170, 170],\n",
       "        [170, 170, 170]]], dtype=uint8)"
      ]
     },
     "execution_count": 34,
     "metadata": {},
     "output_type": "execute_result"
    }
   ],
   "source": [
    "X_train[0]"
   ]
  },
  {
   "cell_type": "code",
   "execution_count": 35,
   "metadata": {},
   "outputs": [
    {
     "data": {
      "image/jpeg": "[encoded data removed]",
      "image/png": "[encoded data removed]",
      "text/plain": [
       "<PIL.Image.Image image mode=RGB size=40x669>"
      ]
     },
     "execution_count": 35,
     "metadata": {},
     "output_type": "execute_result"
    }
   ],
   "source": [
    "Image.fromarray(X_train[0])"
   ]
  },
  {
   "cell_type": "code",
   "execution_count": 36,
   "metadata": {},
   "outputs": [
    {
     "data": {
      "text/plain": [
       "array([2, 4, 3, ..., 4, 5, 2])"
      ]
     },
     "execution_count": 36,
     "metadata": {},
     "output_type": "execute_result"
    }
   ],
   "source": [
    "y_train"
   ]
  },
  {
   "cell_type": "code",
   "execution_count": 39,
   "metadata": {},
   "outputs": [],
   "source": [
    "def preprocess_data(X_train, X_test):\n",
    "    # Normalize the pixel values\n",
    "    X_train = X_train / 255.0\n",
    "    X_test = X_test / 255.0\n",
    "    # # One-hot encode the labels\n",
    "    # y_train = tf.keras.utils.to_categorical(y_train)\n",
    "    return X_train, X_test"
   ]
  },
  {
   "cell_type": "code",
   "execution_count": 40,
   "metadata": {},
   "outputs": [
    {
     "name": "stdout",
     "output_type": "stream",
     "text": [
      "Epoch 1/20\n",
      "101/101 [==============================] - 16s 144ms/step - loss: 0.3568 - accuracy: 0.8727 - val_loss: 0.0519 - val_accuracy: 0.9851\n",
      "Epoch 2/20\n",
      "101/101 [==============================] - 14s 135ms/step - loss: 0.0420 - accuracy: 0.9898 - val_loss: 0.0555 - val_accuracy: 0.9888\n",
      "Epoch 3/20\n",
      "101/101 [==============================] - 14s 134ms/step - loss: 0.0230 - accuracy: 0.9926 - val_loss: 0.0617 - val_accuracy: 0.9901\n",
      "Epoch 4/20\n",
      "101/101 [==============================] - 13s 134ms/step - loss: 0.0102 - accuracy: 0.9981 - val_loss: 0.0434 - val_accuracy: 0.9926\n",
      "Epoch 5/20\n",
      "101/101 [==============================] - 13s 133ms/step - loss: 1.8221e-04 - accuracy: 1.0000 - val_loss: 0.0471 - val_accuracy: 0.9913\n",
      "Epoch 6/20\n",
      "101/101 [==============================] - 14s 140ms/step - loss: 4.1098e-05 - accuracy: 1.0000 - val_loss: 0.0421 - val_accuracy: 0.9926\n",
      "Epoch 7/20\n",
      "101/101 [==============================] - 13s 133ms/step - loss: 1.7920e-05 - accuracy: 1.0000 - val_loss: 0.0492 - val_accuracy: 0.9926\n",
      "Epoch 8/20\n",
      "101/101 [==============================] - 14s 134ms/step - loss: 8.6272e-06 - accuracy: 1.0000 - val_loss: 0.0438 - val_accuracy: 0.9938\n",
      "Epoch 9/20\n",
      "101/101 [==============================] - 14s 134ms/step - loss: 4.9297e-06 - accuracy: 1.0000 - val_loss: 0.0442 - val_accuracy: 0.9938\n",
      "Epoch 10/20\n",
      "101/101 [==============================] - 14s 134ms/step - loss: 3.1143e-06 - accuracy: 1.0000 - val_loss: 0.0461 - val_accuracy: 0.9938\n",
      "Epoch 11/20\n",
      "101/101 [==============================] - 14s 134ms/step - loss: 2.1748e-06 - accuracy: 1.0000 - val_loss: 0.0461 - val_accuracy: 0.9938\n",
      "Epoch 12/20\n",
      "101/101 [==============================] - 13s 133ms/step - loss: 1.6146e-06 - accuracy: 1.0000 - val_loss: 0.0459 - val_accuracy: 0.9938\n",
      "Epoch 13/20\n",
      "101/101 [==============================] - 14s 134ms/step - loss: 1.2556e-06 - accuracy: 1.0000 - val_loss: 0.0450 - val_accuracy: 0.9938\n",
      "Epoch 14/20\n",
      "101/101 [==============================] - 14s 134ms/step - loss: 9.9058e-07 - accuracy: 1.0000 - val_loss: 0.0460 - val_accuracy: 0.9938\n",
      "Epoch 15/20\n",
      "101/101 [==============================] - 14s 136ms/step - loss: 8.2030e-07 - accuracy: 1.0000 - val_loss: 0.0450 - val_accuracy: 0.9938\n",
      "Epoch 16/20\n",
      "101/101 [==============================] - 13s 133ms/step - loss: 6.8803e-07 - accuracy: 1.0000 - val_loss: 0.0461 - val_accuracy: 0.9938\n",
      "Epoch 17/20\n",
      "101/101 [==============================] - 14s 134ms/step - loss: 5.7658e-07 - accuracy: 1.0000 - val_loss: 0.0463 - val_accuracy: 0.9938\n",
      "Epoch 18/20\n",
      "101/101 [==============================] - 14s 134ms/step - loss: 4.9131e-07 - accuracy: 1.0000 - val_loss: 0.0459 - val_accuracy: 0.9963\n",
      "Epoch 19/20\n",
      "101/101 [==============================] - 13s 133ms/step - loss: 4.2617e-07 - accuracy: 1.0000 - val_loss: 0.0463 - val_accuracy: 0.9963\n",
      "Epoch 20/20\n",
      "101/101 [==============================] - 14s 134ms/step - loss: 3.7099e-07 - accuracy: 1.0000 - val_loss: 0.0464 - val_accuracy: 0.9963\n",
      "32/32 [==============================] - 1s 33ms/step - loss: 0.0133 - accuracy: 0.9950\n",
      "Test accuracy: 0.9950445890426636\n"
     ]
    }
   ],
   "source": [
    "import tensorflow as tf\n",
    "from tensorflow.keras import layers, models\n",
    "\n",
    "# Define your neural network architecture\n",
    "def create_model(input_shape, num_classes):\n",
    "    model = models.Sequential([\n",
    "        layers.Conv2D(32, (3, 3), activation='relu', input_shape=input_shape),\n",
    "        layers.MaxPooling2D((2, 2)),\n",
    "        layers.Conv2D(64, (3, 3), activation='relu'),\n",
    "        layers.MaxPooling2D((2, 2)),\n",
    "        layers.Conv2D(128, (3, 3), activation='relu'),\n",
    "        layers.MaxPooling2D((2, 2)),\n",
    "        layers.Flatten(),\n",
    "        layers.Dense(128, activation='relu'),\n",
    "        layers.Dense(num_classes, activation='softmax')\n",
    "    ])\n",
    "    return model\n",
    "\n",
    "X_train, X_test = preprocess_data(X_train, X_test) # Preprocess your images here\n",
    "\n",
    "# Define input shape and number of classes\n",
    "height, width, channels = image.size[1], image.size[0], 3  # Adjust according to your image dimensions\n",
    "input_shape = (height, width, channels)  # Adjust according to your image dimensions\n",
    "num_classes = len(directories)\n",
    "\n",
    "# Create and compile the model\n",
    "model = create_model(input_shape, num_classes)\n",
    "model.compile(optimizer='adam',\n",
    "              loss='sparse_categorical_crossentropy',\n",
    "              metrics=['accuracy'])\n",
    "\n",
    "# Train the model\n",
    "model.fit(X_train, y_train, epochs=20, batch_size=32, validation_split=0.2)\n",
    "\n",
    "# Evaluate the model\n",
    "test_loss, test_acc = model.evaluate(X_test, y_test)\n",
    "print('Test accuracy:', test_acc)\n"
   ]
  },
  {
   "cell_type": "code",
   "execution_count": 41,
   "metadata": {},
   "outputs": [
    {
     "name": "stderr",
     "output_type": "stream",
     "text": [
      "c:\\Users\\sehre\\AppData\\Local\\Programs\\Python\\Python311\\Lib\\site-packages\\keras\\src\\engine\\training.py:3103: UserWarning: You are saving your model as an HDF5 file via `model.save()`. This file format is considered legacy. We recommend using instead the native Keras format, e.g. `model.save('my_model.keras')`.\n",
      "  saving_api.save_model(\n"
     ]
    }
   ],
   "source": [
    "# Save the model\n",
    "model.save('mask_model_v2.h5')"
   ]
  },
  {
   "cell_type": "code",
   "execution_count": 42,
   "metadata": {},
   "outputs": [
    {
     "name": "stdout",
     "output_type": "stream",
     "text": [
      "32/32 [==============================] - 1s 38ms/step\n",
      "True labels: [4 5 3 ... 3 3 3]\n",
      "Predicted labels: tf.Tensor([4 5 3 ... 3 3 3], shape=(1009,), dtype=int64)\n"
     ]
    }
   ],
   "source": [
    "# Load the model\n",
    "model = tf.keras.models.load_model('mask_model_v2.h5')\n",
    "\n",
    "# Make predictions\n",
    "predictions = model.predict(X_test)\n",
    "predictions[:5]\n",
    "\n",
    "# Convert the one-hot encoded predictions to labels\n",
    "predictions = tf.argmax(predictions, axis=1)\n",
    "predictions[:5]\n",
    "\n",
    "# Display the true labels and the predicted labels\n",
    "true_labels = y_test\n",
    "print('True labels:', true_labels)\n",
    "print('Predicted labels:', predictions)\n"
   ]
  },
  {
   "cell_type": "code",
   "execution_count": 28,
   "metadata": {},
   "outputs": [
    {
     "ename": "TypeError",
     "evalue": "Cannot handle this data type: (1, 1, 40, 3), <f8",
     "output_type": "error",
     "traceback": [
      "\u001b[1;31m---------------------------------------------------------------------------\u001b[0m",
      "\u001b[1;31mKeyError\u001b[0m                                  Traceback (most recent call last)",
      "File \u001b[1;32mc:\\Users\\sehre\\AppData\\Local\\Programs\\Python\\Python311\\Lib\\site-packages\\PIL\\Image.py:3070\u001b[0m, in \u001b[0;36mfromarray\u001b[1;34m(obj, mode)\u001b[0m\n\u001b[0;32m   3069\u001b[0m \u001b[38;5;28;01mtry\u001b[39;00m:\n\u001b[1;32m-> 3070\u001b[0m     mode, rawmode \u001b[38;5;241m=\u001b[39m \u001b[43m_fromarray_typemap\u001b[49m\u001b[43m[\u001b[49m\u001b[43mtypekey\u001b[49m\u001b[43m]\u001b[49m\n\u001b[0;32m   3071\u001b[0m \u001b[38;5;28;01mexcept\u001b[39;00m \u001b[38;5;167;01mKeyError\u001b[39;00m \u001b[38;5;28;01mas\u001b[39;00m e:\n",
      "\u001b[1;31mKeyError\u001b[0m: ((1, 1, 40, 3), '<f8')",
      "\nThe above exception was the direct cause of the following exception:\n",
      "\u001b[1;31mTypeError\u001b[0m                                 Traceback (most recent call last)",
      "Cell \u001b[1;32mIn[28], line 1\u001b[0m\n\u001b[1;32m----> 1\u001b[0m \u001b[43mImage\u001b[49m\u001b[38;5;241;43m.\u001b[39;49m\u001b[43mfromarray\u001b[49m\u001b[43m(\u001b[49m\u001b[43mX_test\u001b[49m\u001b[43m)\u001b[49m\n",
      "File \u001b[1;32mc:\\Users\\sehre\\AppData\\Local\\Programs\\Python\\Python311\\Lib\\site-packages\\PIL\\Image.py:3073\u001b[0m, in \u001b[0;36mfromarray\u001b[1;34m(obj, mode)\u001b[0m\n\u001b[0;32m   3071\u001b[0m     \u001b[38;5;28;01mexcept\u001b[39;00m \u001b[38;5;167;01mKeyError\u001b[39;00m \u001b[38;5;28;01mas\u001b[39;00m e:\n\u001b[0;32m   3072\u001b[0m         msg \u001b[38;5;241m=\u001b[39m \u001b[38;5;124m\"\u001b[39m\u001b[38;5;124mCannot handle this data type: \u001b[39m\u001b[38;5;132;01m%s\u001b[39;00m\u001b[38;5;124m, \u001b[39m\u001b[38;5;132;01m%s\u001b[39;00m\u001b[38;5;124m\"\u001b[39m \u001b[38;5;241m%\u001b[39m typekey\n\u001b[1;32m-> 3073\u001b[0m         \u001b[38;5;28;01mraise\u001b[39;00m \u001b[38;5;167;01mTypeError\u001b[39;00m(msg) \u001b[38;5;28;01mfrom\u001b[39;00m \u001b[38;5;21;01me\u001b[39;00m\n\u001b[0;32m   3074\u001b[0m \u001b[38;5;28;01melse\u001b[39;00m:\n\u001b[0;32m   3075\u001b[0m     rawmode \u001b[38;5;241m=\u001b[39m mode\n",
      "\u001b[1;31mTypeError\u001b[0m: Cannot handle this data type: (1, 1, 40, 3), <f8"
     ]
    }
   ],
   "source": [
    "Image.fromarray(X_test[0])"
   ]
  },
  {
   "cell_type": "code",
   "execution_count": 43,
   "metadata": {},
   "outputs": [
    {
     "name": "stdout",
     "output_type": "stream",
     "text": [
      "Accuracy: 0.9950445986124876\n"
     ]
    },
    {
     "data": {
      "image/png": "[encoded data removed]",
      "text/plain": [
       "<Figure size 1000x700 with 2 Axes>"
      ]
     },
     "metadata": {},
     "output_type": "display_data"
    }
   ],
   "source": [
    "# Calculate the accuracy of the model\n",
    "accuracy = np.mean(true_labels == predictions)\n",
    "print('Accuracy:', accuracy)\n",
    "\n",
    "# Display the confusion matrix\n",
    "from sklearn.metrics import confusion_matrix\n",
    "import seaborn as sns\n",
    "import matplotlib.pyplot as plt\n",
    "\n",
    "cm = confusion_matrix(true_labels, predictions)\n",
    "plt.figure(figsize=(10, 7))\n",
    "sns.heatmap(cm, annot=True, fmt='d', xticklabels=directories, yticklabels=directories, cmap='Blues')\n",
    "plt.xlabel('Predicted labels')\n",
    "plt.ylabel('True labels')\n",
    "plt.title('Confusion Matrix')\n",
    "plt.show()"
   ]
  },
  {
   "cell_type": "code",
   "execution_count": 44,
   "metadata": {},
   "outputs": [
    {
     "name": "stdout",
     "output_type": "stream",
     "text": [
      "1/1 [==============================] - 0s 60ms/step\n",
      "HL\n"
     ]
    }
   ],
   "source": [
    "# Load the model\n",
    "model = tf.keras.models.load_model('mask_model_v2.h5')\n",
    "\n",
    "# Test the model\n",
    "img = Image.open('dataset/HH/6991.png')\n",
    "\n",
    "img = np.array(img)\n",
    "img = img / 255.0\n",
    "img = img[np.newaxis, ...]\n",
    "\n",
    "prediction = model.predict(img)\n",
    "prediction = np.argmax(prediction)\n",
    "\n",
    "if prediction == 0:\n",
    "    print('DT')\n",
    "elif prediction == 1:\n",
    "    print('HH')\n",
    "elif prediction == 2:\n",
    "    print('HL')\n",
    "elif prediction == 3:\n",
    "    print('LH')\n",
    "else:\n",
    "    print('LL')\n"
   ]
  },
  {
   "cell_type": "code",
   "execution_count": null,
   "metadata": {},
   "outputs": [],
   "source": [
    "import tensorflow as tf\n",
    "print(tf.__version__)"
   ]
  }
 ],
 "metadata": {
  "kernelspec": {
   "display_name": "Python 3",
   "language": "python",
   "name": "python3"
  },
  "language_info": {
   "codemirror_mode": {
    "name": "ipython",
    "version": 3
   },
   "file_extension": ".py",
   "mimetype": "text/x-python",
   "name": "python",
   "nbconvert_exporter": "python",
   "pygments_lexer": "ipython3",
   "version": "3.11.5"
  }
 },
 "nbformat": 4,
 "nbformat_minor": 2
}
