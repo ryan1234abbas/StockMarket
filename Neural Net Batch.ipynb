{
 "cells": [
  {
   "cell_type": "code",
   "execution_count": 5,
   "metadata": {},
   "outputs": [
    {
     "data": {
      "text/plain": [
       "(40, 669)"
      ]
     },
     "execution_count": 5,
     "metadata": {},
     "output_type": "execute_result"
    }
   ],
   "source": [
    "from PIL import Image\n",
    "image = Image.open(\"72.png\")\n",
    "image.size"
   ]
  },
  {
   "cell_type": "code",
   "execution_count": 6,
   "metadata": {},
   "outputs": [],
   "source": [
    "import os\n",
    "from PIL import Image\n",
    "import numpy as np\n",
    "\n",
    "# Define your directories\n",
    "directories = ['dataset/DB', 'dataset/DT', 'dataset/HH', 'dataset/HL', 'dataset/LH', 'dataset/LL']\n",
    "\n",
    "# Initialize lists to store images and labels\n",
    "images = []\n",
    "labels = []\n",
    "\n",
    "# Loop through each directory\n",
    "for i, dir in enumerate(directories):\n",
    "    # Loop through each file in the directory\n",
    "    for filename in os.listdir(dir):\n",
    "        # Ensure the file is an image\n",
    "        if filename.endswith('.jpg') or filename.endswith('.png'):\n",
    "            # Open the image file\n",
    "            img = Image.open(os.path.join(dir, filename))\n",
    "            # Convert the image to a numpy array and append it to the images list\n",
    "            images.append(np.array(img))\n",
    "            # Append the corresponding label to the labels list\n",
    "            labels.append(i)\n",
    "\n",
    "# Convert lists to numpy arrays\n",
    "X = np.array(images)\n",
    "y = np.array(labels)\n",
    "\n",
    "# Split the data into training and testing sets\n",
    "from sklearn.model_selection import train_test_split\n",
    "X_train, X_test, y_train, y_test = train_test_split(X, y, test_size=0.2, random_state=42)\n"
   ]
  },
  {
   "cell_type": "code",
   "execution_count": 7,
   "metadata": {},
   "outputs": [
    {
     "data": {
      "text/plain": [
       "((4168, 669, 40, 3), (4168,))"
      ]
     },
     "execution_count": 7,
     "metadata": {},
     "output_type": "execute_result"
    }
   ],
   "source": [
    "X_train.shape, y_train.shape"
   ]
  },
  {
   "cell_type": "code",
   "execution_count": 8,
   "metadata": {},
   "outputs": [
    {
     "data": {
      "text/plain": [
       "array([[[166, 160, 180],\n",
       "        [166, 160, 180],\n",
       "        [166, 160, 180],\n",
       "        ...,\n",
       "        [170, 170, 170],\n",
       "        [170, 170, 170],\n",
       "        [170, 170, 170]],\n",
       "\n",
       "       [[166, 160, 180],\n",
       "        [166, 160, 180],\n",
       "        [166, 160, 180],\n",
       "        ...,\n",
       "        [170, 170, 170],\n",
       "        [170, 170, 170],\n",
       "        [170, 170, 170]],\n",
       "\n",
       "       [[166, 160, 180],\n",
       "        [166, 160, 180],\n",
       "        [166, 160, 180],\n",
       "        ...,\n",
       "        [170, 170, 170],\n",
       "        [170, 170, 170],\n",
       "        [170, 170, 170]],\n",
       "\n",
       "       ...,\n",
       "\n",
       "       [[166, 160, 180],\n",
       "        [166, 160, 180],\n",
       "        [166, 160, 180],\n",
       "        ...,\n",
       "        [170, 170, 170],\n",
       "        [170, 170, 170],\n",
       "        [170, 170, 170]],\n",
       "\n",
       "       [[166, 160, 180],\n",
       "        [166, 160, 180],\n",
       "        [166, 160, 180],\n",
       "        ...,\n",
       "        [170, 170, 170],\n",
       "        [170, 170, 170],\n",
       "        [170, 170, 170]],\n",
       "\n",
       "       [[166, 160, 180],\n",
       "        [166, 160, 180],\n",
       "        [166, 160, 180],\n",
       "        ...,\n",
       "        [170, 170, 170],\n",
       "        [170, 170, 170],\n",
       "        [170, 170, 170]]], dtype=uint8)"
      ]
     },
     "execution_count": 8,
     "metadata": {},
     "output_type": "execute_result"
    }
   ],
   "source": [
    "X_train[0]"
   ]
  },
  {
   "cell_type": "code",
   "execution_count": 9,
   "metadata": {},
   "outputs": [
    {
     "data": {
      "image/jpeg": "[encoded data removed]",
      "image/png": "[encoded data removed]",
      "text/plain": [
       "<PIL.Image.Image image mode=RGB size=40x669>"
      ]
     },
     "execution_count": 9,
     "metadata": {},
     "output_type": "execute_result"
    }
   ],
   "source": [
    "Image.fromarray(X_train[0])"
   ]
  },
  {
   "cell_type": "code",
   "execution_count": 10,
   "metadata": {},
   "outputs": [
    {
     "data": {
      "text/plain": [
       "array([5, 2, 4, ..., 5, 5, 2])"
      ]
     },
     "execution_count": 10,
     "metadata": {},
     "output_type": "execute_result"
    }
   ],
   "source": [
    "y_train"
   ]
  },
  {
   "cell_type": "code",
   "execution_count": 11,
   "metadata": {},
   "outputs": [],
   "source": [
    "def preprocess_data(X_train, X_test):\n",
    "    # Normalize the pixel values\n",
    "    X_train = X_train / 255.0\n",
    "    X_test = X_test / 255.0\n",
    "    # # One-hot encode the labels\n",
    "    # y_train = tf.keras.utils.to_categorical(y_train)\n",
    "    return X_train, X_test"
   ]
  },
  {
   "cell_type": "code",
   "execution_count": 12,
   "metadata": {},
   "outputs": [],
   "source": [
    "import os\n",
    "\n",
    "def preprocess_data(X, batch_size, output_dir):\n",
    "    num_samples = len(X)\n",
    "    num_batches = num_samples // batch_size + 1 if num_samples % batch_size != 0 else num_samples // batch_size\n",
    "    \n",
    "    for i in range(num_batches):\n",
    "        start_idx = i * batch_size\n",
    "        end_idx = min((i + 1) * batch_size, num_samples)\n",
    "        \n",
    "        batch_X = X[start_idx:end_idx]\n",
    "        batch_X = batch_X / 255.0  # Normalize pixel values\n",
    "        \n",
    "        np.save(os.path.join(output_dir, f'batch_{i}.npy'), batch_X)\n",
    "\n",
    "# # Define batch size for preprocessing\n",
    "# preprocess_batch_size = 10000\n",
    "# # Define output directory for preprocessed batches\n",
    "# output_dir_train = 'preprocessed_train'\n",
    "# output_dir_test = 'preprocessed_test'\n",
    "\n",
    "# # Create output directories if they don't exist\n",
    "# os.makedirs(output_dir_train, exist_ok=True)\n",
    "# os.makedirs(output_dir_test, exist_ok=True)\n",
    "\n",
    "# # Preprocess training data\n",
    "# preprocess_data(X_train, preprocess_batch_size, output_dir_train)\n",
    "\n",
    "# # Preprocess test data\n",
    "# preprocess_data(X_test, preprocess_batch_size, output_dir_test)\n"
   ]
  },
  {
   "cell_type": "code",
   "execution_count": 13,
   "metadata": {},
   "outputs": [],
   "source": [
    "import os\n",
    "import numpy as np\n",
    "from PIL import Image\n",
    "from sklearn.model_selection import train_test_split\n",
    "\n",
    "def preprocess_data(directories, test_size, batch_size, output_dir):\n",
    "    for i, dir in enumerate(directories):\n",
    "        images = []\n",
    "        labels = []\n",
    "\n",
    "        # Loop through each file in the directory\n",
    "        for filename in os.listdir(dir):\n",
    "            # Ensure the file is an image\n",
    "            if filename.endswith('.jpg') or filename.endswith('.png'):\n",
    "                # Open the image file\n",
    "                img = Image.open(os.path.join(dir, filename))\n",
    "                # Convert the image to a numpy array and append it to the images list\n",
    "                images.append(np.array(img))\n",
    "                # Append the corresponding label to the labels list\n",
    "                labels.append(i)\n",
    "\n",
    "        # Convert lists to numpy arrays\n",
    "        X = np.array(images)\n",
    "        y = np.array(labels)\n",
    "\n",
    "        # Split the data into training and testing sets\n",
    "        X_train, X_test, y_train, y_test = train_test_split(X, y, test_size=test_size, random_state=42)\n",
    "\n",
    "        # Define batch size for preprocessing\n",
    "        num_samples_train = len(X_train)\n",
    "        num_batches_train = num_samples_train // batch_size + 1 if num_samples_train % batch_size != 0 else num_samples_train // batch_size\n",
    "\n",
    "        num_samples_test = len(X_test)\n",
    "        num_batches_test = num_samples_test // batch_size + 1 if num_samples_test % batch_size != 0 else num_samples_test // batch_size\n",
    "\n",
    "        # Create output directories if they don't exist\n",
    "        train_dir = os.path.join(output_dir, 'train', f'class_{i}')\n",
    "        test_dir = os.path.join(output_dir, 'test', f'class_{i}')\n",
    "        os.makedirs(train_dir, exist_ok=True)\n",
    "        os.makedirs(test_dir, exist_ok=True)\n",
    "\n",
    "        # Preprocess training data\n",
    "        for i in range(num_batches_train):\n",
    "            start_idx = i * batch_size\n",
    "            end_idx = min((i + 1) * batch_size, num_samples_train)\n",
    "            batch_X = X_train[start_idx:end_idx]\n",
    "\n",
    "            for j in range(len(batch_X)):\n",
    "                np.save(os.path.join(train_dir, f'batch_{i * batch_size + j}.npy'), batch_X[j])\n",
    "\n",
    "        # Preprocess test data\n",
    "        for i in range(num_batches_test):\n",
    "            start_idx = i * batch_size\n",
    "            end_idx = min((i + 1) * batch_size, num_samples_test)\n",
    "            batch_X = X_test[start_idx:end_idx]\n",
    "\n",
    "            for j in range(len(batch_X)):\n",
    "                np.save(os.path.join(test_dir, f'batch_{i * batch_size + j}.npy'), batch_X[j])\n",
    "\n",
    "# Define your directories\n",
    "directories = ['dataset/DB', 'dataset/DT', 'dataset/HH', 'dataset/HL', 'dataset/LH', 'dataset/LL']\n",
    "\n",
    "# Define test size and batch size for preprocessing\n",
    "test_size = 0.2\n",
    "preprocess_batch_size = 100\n",
    "\n",
    "# Define output directory for preprocessed batches\n",
    "output_dir = 'preprocessed_data'\n",
    "\n",
    "# Preprocess the data\n",
    "preprocess_data(directories, test_size, preprocess_batch_size, output_dir)\n"
   ]
  },
  {
   "cell_type": "markdown",
   "metadata": {},
   "source": [
    "Model for small Datasets"
   ]
  },
  {
   "cell_type": "code",
   "execution_count": 14,
   "metadata": {},
   "outputs": [
    {
     "name": "stdout",
     "output_type": "stream",
     "text": [
      "Epoch 1/5\n",
      "131/131 [==============================] - 33s 242ms/step - loss: 9.6642 - accuracy: 0.8070\n",
      "Epoch 2/5\n",
      "131/131 [==============================] - 32s 245ms/step - loss: 0.1794 - accuracy: 0.9501\n",
      "Epoch 3/5\n",
      "131/131 [==============================] - 33s 254ms/step - loss: 0.0525 - accuracy: 0.9873\n",
      "Epoch 4/5\n",
      "131/131 [==============================] - 34s 255ms/step - loss: 0.0089 - accuracy: 0.9978\n",
      "Epoch 5/5\n",
      "131/131 [==============================] - 33s 254ms/step - loss: 0.0011 - accuracy: 0.9998\n"
     ]
    },
    {
     "data": {
      "text/plain": [
       "<keras.src.callbacks.History at 0x18060c11a90>"
      ]
     },
     "execution_count": 14,
     "metadata": {},
     "output_type": "execute_result"
    }
   ],
   "source": [
    "import os\n",
    "import numpy as np\n",
    "import tensorflow as tf\n",
    "from tensorflow.keras import layers, models\n",
    "\n",
    "# Define your neural network architecture\n",
    "def create_model(input_shape, num_classes):\n",
    "    model = models.Sequential([\n",
    "        layers.Conv2D(32, (3, 3), activation='relu', input_shape=input_shape),\n",
    "        layers.MaxPooling2D((2, 2)),\n",
    "        layers.Conv2D(64, (3, 3), activation='relu'),\n",
    "        layers.MaxPooling2D((2, 2)),\n",
    "        layers.Conv2D(128, (3, 3), activation='relu'),\n",
    "        layers.MaxPooling2D((2, 2)),\n",
    "        layers.Flatten(),\n",
    "        layers.Dense(128, activation='relu'),\n",
    "        layers.Dense(num_classes, activation='softmax')\n",
    "    ])\n",
    "    return model\n",
    "\n",
    "# Define input shape and number of classes\n",
    "input_shape = (669, 40, 3)  # Adjust according to your image dimensions\n",
    "num_classes = 6\n",
    "\n",
    "# Define batch size\n",
    "batch_size = 32\n",
    "\n",
    "# Define output directory for preprocessed batches\n",
    "preprocessed_train_dir = os.path.join('preprocessed_data', 'train')\n",
    "preprocessed_test_dir = os.path.join('preprocessed_data', 'test')\n",
    "\n",
    "# Create and compile the model\n",
    "model = create_model(input_shape, num_classes)\n",
    "model.compile(optimizer='adam',\n",
    "              loss='sparse_categorical_crossentropy',\n",
    "              metrics=['accuracy'])\n",
    "\n",
    "# Load preprocessed data for training\n",
    "train_data = []\n",
    "train_labels = []\n",
    "\n",
    "for i in range(num_classes):\n",
    "    class_train_data = []\n",
    "    class_train_labels = []\n",
    "\n",
    "    class_train_dir = os.path.join(preprocessed_train_dir, f'class_{i}')\n",
    "    for file in os.listdir(class_train_dir):\n",
    "        if file.endswith('.npy'):\n",
    "            data = np.load(os.path.join(class_train_dir, file))\n",
    "            class_train_data.append(data)\n",
    "            class_train_labels.append(i)\n",
    "\n",
    "    train_data.extend(class_train_data)\n",
    "    train_labels.extend(class_train_labels)\n",
    "\n",
    "train_X = np.array(train_data)\n",
    "train_y = np.array(train_labels)\n",
    "\n",
    "# Shuffle training data\n",
    "indices = np.arange(len(train_X))\n",
    "np.random.shuffle(indices)\n",
    "train_X = train_X[indices]\n",
    "train_y = train_y[indices]\n",
    "\n",
    "# Reshape images to the correct shape\n",
    "train_X = train_X.reshape((-1,) + input_shape)\n",
    "\n",
    "# Create training dataset\n",
    "train_dataset = tf.data.Dataset.from_tensor_slices((train_X, train_y)).shuffle(len(train_X)).batch(batch_size)\n",
    "\n",
    "# Train the model\n",
    "model.fit(train_dataset, epochs=5)\n",
    "\n"
   ]
  },
  {
   "cell_type": "code",
   "execution_count": 15,
   "metadata": {},
   "outputs": [
    {
     "name": "stderr",
     "output_type": "stream",
     "text": [
      "c:\\Users\\sehre\\AppData\\Local\\Programs\\Python\\Python311\\Lib\\site-packages\\keras\\src\\engine\\training.py:3000: UserWarning: You are saving your model as an HDF5 file via `model.save()`. This file format is considered legacy. We recommend using instead the native Keras format, e.g. `model.save('my_model.keras')`.\n",
      "  saving_api.save_model(\n"
     ]
    }
   ],
   "source": [
    "# Save the model\n",
    "model.save('mask_model_v2.2.h5')"
   ]
  },
  {
   "cell_type": "code",
   "execution_count": 16,
   "metadata": {},
   "outputs": [],
   "source": [
    "# Load preprocessed data for testing\n",
    "test_data = []\n",
    "test_labels = []\n",
    "\n",
    "for i in range(num_classes):\n",
    "    class_test_data = []\n",
    "    class_test_labels = []\n",
    "\n",
    "    class_test_dir = os.path.join(preprocessed_test_dir, f'class_{i}')\n",
    "    for file in os.listdir(class_test_dir):\n",
    "        if file.endswith('.npy'):\n",
    "            data = np.load(os.path.join(class_test_dir, file))\n",
    "            class_test_data.append(data)\n",
    "            class_test_labels.append(i)\n",
    "\n",
    "    test_data.extend(class_test_data)\n",
    "    test_labels.extend(class_test_labels)\n",
    "\n",
    "test_X = np.array(test_data)\n",
    "test_y = np.array(test_labels)\n",
    "\n",
    "# Shuffle testing data\n",
    "indices = np.arange(len(test_X))\n",
    "np.random.shuffle(indices)\n",
    "test_X = test_X[indices]\n",
    "test_y = test_y[indices]\n",
    "\n",
    "# Reshape images to the correct shape\n",
    "test_X = test_X.reshape((-1,) + input_shape)"
   ]
  },
  {
   "cell_type": "code",
   "execution_count": 17,
   "metadata": {},
   "outputs": [
    {
     "name": "stdout",
     "output_type": "stream",
     "text": [
      "33/33 [==============================] - 2s 50ms/step - loss: 0.0163 - accuracy: 0.9952\n",
      "Test accuracy: 0.9952152967453003\n"
     ]
    }
   ],
   "source": [
    "test_dataset = tf.data.Dataset.from_tensor_slices((test_X, test_y)).shuffle(len(test_X)).batch(batch_size)\n",
    "\n",
    "# Evaluate the model (optional)\n",
    "test_loss, test_acc = model.evaluate(test_dataset)\n",
    "print('Test accuracy:', test_acc)"
   ]
  },
  {
   "cell_type": "code",
   "execution_count": 18,
   "metadata": {},
   "outputs": [
    {
     "name": "stdout",
     "output_type": "stream",
     "text": [
      "33/33 [==============================] - 2s 56ms/step\n",
      "True labels: [0 4 5 5 3]\n",
      "Predicted labels: tf.Tensor([0 4 5 5 3], shape=(5,), dtype=int64)\n"
     ]
    }
   ],
   "source": [
    "# Load the model\n",
    "model = tf.keras.models.load_model('mask_model_v2.2.h5')\n",
    "\n",
    "# Make predictions\n",
    "predictions = model.predict(test_X)\n",
    "\n",
    "# Convert the one-hot encoded predictions to labels\n",
    "predictions = tf.argmax(predictions, axis=1)\n",
    "\n",
    "# Display the true labels and the predicted labels\n",
    "true_labels = test_y[:5]\n",
    "print('True labels:', true_labels)\n",
    "print('Predicted labels:', predictions[:5])\n"
   ]
  },
  {
   "cell_type": "code",
   "execution_count": 19,
   "metadata": {},
   "outputs": [
    {
     "data": {
      "image/jpeg": "[encoded data removed]",
      "image/png": "[encoded data removed]",
      "text/plain": [
       "<PIL.Image.Image image mode=RGB size=40x669>"
      ]
     },
     "execution_count": 19,
     "metadata": {},
     "output_type": "execute_result"
    }
   ],
   "source": [
    "Image.fromarray(test_X[0])"
   ]
  },
  {
   "cell_type": "code",
   "execution_count": 20,
   "metadata": {},
   "outputs": [
    {
     "name": "stdout",
     "output_type": "stream",
     "text": [
      "Accuracy: 0.9952153110047847\n"
     ]
    },
    {
     "data": {
      "image/png": "[encoded data removed]",
      "text/plain": [
       "<Figure size 1000x700 with 2 Axes>"
      ]
     },
     "metadata": {},
     "output_type": "display_data"
    }
   ],
   "source": [
    "# Calculate the accuracy of the model\n",
    "accuracy = np.mean(test_y == predictions)\n",
    "print('Accuracy:', accuracy)\n",
    "\n",
    "# Display the confusion matrix\n",
    "from sklearn.metrics import confusion_matrix\n",
    "import seaborn as sns\n",
    "import matplotlib.pyplot as plt\n",
    "\n",
    "directories = ['DB', 'DT', 'HH', 'HL', 'LH', 'LL']\n",
    "cm = confusion_matrix(test_y, predictions)\n",
    "plt.figure(figsize=(10, 7))\n",
    "sns.heatmap(cm, annot=True, fmt='d', xticklabels=directories, yticklabels=directories, cmap='Blues')\n",
    "plt.xlabel('Predicted labels')\n",
    "plt.ylabel('True labels')\n",
    "plt.title('Confusion Matrix')\n",
    "plt.show()"
   ]
  },
  {
   "cell_type": "code",
   "execution_count": 21,
   "metadata": {},
   "outputs": [
    {
     "name": "stdout",
     "output_type": "stream",
     "text": [
      "1/1 [==============================] - 0s 56ms/step\n",
      "HL\n"
     ]
    }
   ],
   "source": [
    "# Load the model\n",
    "model = tf.keras.models.load_model('mask_model_v2.h5')\n",
    "\n",
    "# Test the model\n",
    "img = Image.open('dataset/HH/6991.png')\n",
    "\n",
    "img = np.array(img)\n",
    "img = img / 255.0\n",
    "img = img[np.newaxis, ...]\n",
    "\n",
    "prediction = model.predict(img)\n",
    "prediction = np.argmax(prediction)\n",
    "\n",
    "if prediction == 0:\n",
    "    print('DT')\n",
    "elif prediction == 1:\n",
    "    print('HH')\n",
    "elif prediction == 2:\n",
    "    print('HL')\n",
    "elif prediction == 3:\n",
    "    print('LH')\n",
    "else:\n",
    "    print('LL')\n"
   ]
  },
  {
   "cell_type": "code",
   "execution_count": 22,
   "metadata": {},
   "outputs": [
    {
     "name": "stdout",
     "output_type": "stream",
     "text": [
      "2.13.1\n"
     ]
    }
   ],
   "source": [
    "import tensorflow as tf\n",
    "print(tf.__version__)"
   ]
  }
 ],
 "metadata": {
  "kernelspec": {
   "display_name": "Python 3",
   "language": "python",
   "name": "python3"
  },
  "language_info": {
   "codemirror_mode": {
    "name": "ipython",
    "version": 3
   },
   "file_extension": ".py",
   "mimetype": "text/x-python",
   "name": "python",
   "nbconvert_exporter": "python",
   "pygments_lexer": "ipython3",
   "version": "3.11.5"
  }
 },
 "nbformat": 4,
 "nbformat_minor": 2
}
